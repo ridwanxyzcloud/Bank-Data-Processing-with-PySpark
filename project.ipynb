{
 "cells": [
  {
   "cell_type": "code",
   "execution_count": null,
   "metadata": {},
   "outputs": [],
   "source": [
    "# Install required dependencies \n",
    "\n",
    "!pip install -r requirments.txt\n",
    "\n"
   ]
  },
  {
   "cell_type": "code",
   "execution_count": 38,
   "metadata": {},
   "outputs": [],
   "source": [
    "# import necessary dependencies\n",
    "from pyspark.sql import SparkSession\n",
    "from sqlalchemy import create_engine\n",
    "from pyspark.sql.functions import monotonically_increasing_id\n",
    "import pandas as pd\n",
    "import os"
   ]
  },
  {
   "cell_type": "markdown",
   "metadata": {},
   "source": [
    "## Data Extraction"
   ]
  },
  {
   "cell_type": "code",
   "execution_count": null,
   "metadata": {},
   "outputs": [],
   "source": [
    "# initializing a spark session\n",
    "\n",
    "spark = SparkSession.builder.appName(\"BankTransactionETL\").getOrCreate()"
   ]
  },
  {
   "cell_type": "code",
   "execution_count": 5,
   "metadata": {},
   "outputs": [
    {
     "data": {
      "text/html": [
       "\n",
       "            <div>\n",
       "                <p><b>SparkSession - in-memory</b></p>\n",
       "                \n",
       "        <div>\n",
       "            <p><b>SparkContext</b></p>\n",
       "\n",
       "            <p><a href=\"http://192.168.1.143:4040\">Spark UI</a></p>\n",
       "\n",
       "            <dl>\n",
       "              <dt>Version</dt>\n",
       "                <dd><code>v3.5.1</code></dd>\n",
       "              <dt>Master</dt>\n",
       "                <dd><code>local[*]</code></dd>\n",
       "              <dt>AppName</dt>\n",
       "                <dd><code>BankTransactionETL</code></dd>\n",
       "            </dl>\n",
       "        </div>\n",
       "        \n",
       "            </div>\n",
       "        "
      ],
      "text/plain": [
       "<pyspark.sql.session.SparkSession at 0x10a5135d0>"
      ]
     },
     "execution_count": 5,
     "metadata": {},
     "output_type": "execute_result"
    }
   ],
   "source": [
    "# spark standalone \n",
    "spark"
   ]
  },
  {
   "cell_type": "code",
   "execution_count": 6,
   "metadata": {},
   "outputs": [
    {
     "name": "stderr",
     "output_type": "stream",
     "text": [
      "                                                                                \r"
     ]
    },
    {
     "name": "stdout",
     "output_type": "stream",
     "text": [
      "+--------------------+------+----------------+-----------------+--------------------+--------------------+--------------+--------------------+--------------------+--------------------+--------------------+-------------------+-------------------+--------------------+-------------+-------------+--------+-----+---------+--------------------+--------------------+------+--------------+\n",
      "|    Transaction_Date|Amount|Transaction_Type|    Customer_Name|    Customer_Address|       Customer_City|Customer_State|    Customer_Country|             Company|           Job_Title|               Email|       Phone_Number| Credit_Card_Number|                IBAN|Currency_Code|Random_Number|Category|Group|Is_Active|        Last_Updated|         Description|Gender|Marital_Status|\n",
      "+--------------------+------+----------------+-----------------+--------------------+--------------------+--------------+--------------------+--------------------+--------------------+--------------------+-------------------+-------------------+--------------------+-------------+-------------+--------+-----+---------+--------------------+--------------------+------+--------------+\n",
      "|2024-03-23 15:38:...| 34.76|      Withdrawal|       James Neal|54912 Holmes Lodg...|   West Keithborough|       Florida|                Togo|Benson, Johnson a...|                NULL|                NULL|  493.720.6609x7545|   3592901394693441|GB98RBPP090285271...|          MAD|       3167.0|       C|    Z|       No|2020-06-20 03:04:...|Yeah food anythin...| Other|      Divorced|\n",
      "|2024-04-22 19:15:...|163.92|      Withdrawal|      Thomas Long| 1133 Collin Passage|          Joshuabury|   Connecticut|Lao People's Demo...|                NULL|   Food technologist|michellelynch@exa...|      (497)554-3317|               NULL|GB03KFZR339662263...|          VEF|       2122.0|       B|    Z|     NULL|2020-12-27 13:23:...|Teach edge make n...|Female|       Married|\n",
      "|2024-04-12 19:46:...|386.32|      Withdrawal|   Ashley Shelton|5297 Johnson Port...|         North Maria|    New Jersey|              Bhutan|       Jones-Mueller|Database administ...| ljordan@example.org|      (534)769-3072|       675983949974|GB59QYRN446730519...|          COP|       7796.0|       C|    Z|       No|2020-01-24 01:23:...|Again line face c...| Other|          NULL|\n",
      "|2024-04-17 15:29:...|407.15|         Deposit|    James Rosario|56955 Moore Glens...|  North Michellefurt|    New Mexico|             Iceland|       Vargas-Harris|Horticultural the...|parkerjames@examp...|+1-447-900-1320x257|      4761202519057|GB74FTDO268299438...|          BWP|       6284.0|       C|    Z|      Yes|2023-09-27 03:01:...|     Bag my a drive.|  NULL|          NULL|\n",
      "|2024-02-10 01:51:...|161.31|         Deposit|   Miguel Leonard|262 Beck Expressw...|                NULL| West Virginia|             Eritrea|Richardson, Gonza...|   Minerals surveyor| zweaver@example.net|               NULL|    213156729655186|GB94EWRN587847592...|          SOS|       9179.0|       C|    Y|       No|2022-01-22 19:08:...|Husband find ok w...|Female|       Married|\n",
      "|2024-02-10 22:56:...|764.34|        Transfer|      Jesse Clark|      194 Derek Burg|        Wallacemouth|    New Mexico|             Estonia|           Smith Ltd| Seismic interpreter|benjaminwalker@ex...|   229-511-2530x870|       501851472974|                NULL|          ZWD|         NULL|       B|    Z|      Yes|2023-02-18 19:26:...|                NULL| Other|       Married|\n",
      "|2024-04-07 00:07:...|734.59|         Deposit|       Mark Estes|4077 James Lane A...|      Williamsonport|      Michigan|Antarctica (the t...|         Wade-Kelley|  Surveyor, minerals|karenrobinson@exa...|      (840)334-1610|4543690154172468535|GB55FCPC779828821...|          CAD|       7304.0|       A|    X|      Yes|2020-10-27 16:48:...|Standard prepare ...|  Male|          NULL|\n",
      "|2024-03-08 01:51:...|592.43|         Deposit|       Kelly Ruiz|                NULL|          New Lauren|          NULL|                NULL|                NULL|Medical laborator...|  iestes@example.org| 495.430.4276x42618|      4500718397537|GB78FDAJ595830659...|          RON|       2445.0|       B|    X|       No|2022-11-19 08:59:...|                NULL|Female|        Single|\n",
      "|2024-04-02 06:21:...|472.35|        Transfer|             NULL|1467 Heather Vill...|         Conniemouth|          NULL|               Macao|Ellis, Smith and ...|Television/film/v...|rebeccarodriguez@...|       511.666.5891|      4884893247570|GB91HQDO449272193...|          LTL|       2721.0|    NULL|    Z|       No|                NULL|Leg out walk rece...| Other|          NULL|\n",
      "|2024-02-01 12:34:...| 927.1|         Deposit|        Brad Yang|    579 Nolan Harbor|South Christopher...|  South Dakota|                NULL|         Lindsey LLC|Programmer, appli...|maryduran@example...|  (241)738-0972x658|    180039947294310|GB48WNWB013807482...|          HRK|       3061.0|       B|    X|       No|2020-08-31 20:40:...|Notice paper son ...|Female|        Single|\n",
      "|2024-03-22 16:46:...| 66.59|        Transfer|   Dalton Jimenez|4330 Christine Vista|        Port Kirsten|          NULL|            Cameroon|         Carroll LLC|                NULL|                NULL|       670-499-0309|    213171934267032|GB05MHXA361278613...|          BAM|       3958.0|    NULL| NULL|      Yes|2022-09-19 03:52:...|He wish soldier t...|  Male|        Single|\n",
      "|2024-04-23 13:30:...| 246.3|      Withdrawal|   Paige Sheppard|0947 Mendez Under...|          Medinastad|North Carolina|             Iceland|                NULL|     Sales executive|  eric64@example.net|               NULL|    342940028197162|GB54HHLQ489156729...|          ZWD|       8312.0|    NULL|    Z|      Yes|2023-06-02 04:34:...|This speak buildi...|  Male|      Divorced|\n",
      "|2024-04-24 20:44:...| 17.74|        Transfer|        Ryan Rice|63191 Carol River...|       North Heather|      Virginia|               Gabon|     Arnold-Hamilton|Biomedical scientist|gonzalestammy@exa...|      (891)958-6442|   4263644221766495|GB47BGNG208602249...|          AOA|       6148.0|       D|    Y|       No|                NULL|Camera spring tea...|Female|          NULL|\n",
      "|2024-02-23 05:48:...|640.74|      Withdrawal|   Danielle Young| 8484 Kelley Circles|           Karahaven|    New Jersey|            Dominica|        Fox and Sons|Operational inves...| maria62@example.net|               NULL|       675908517708|GB92DFSO760691881...|          TJS|         NULL|       B|    Z|      Yes|                NULL|Occur second offe...|Female|       Married|\n",
      "|2024-01-13 01:22:...|782.32|      Withdrawal|   Stephen Nguyen|    01696 Brown Cape|          South Mary|       Wyoming|Heard Island and ...|Lynch, Hayes and ...|       Stage manager|stewartjames@exam...|  680-460-3674x6031|   4304956118653227|GB15VYWJ018711823...|          NIO|       2502.0|       B|    Y|      Yes|2021-04-12 20:23:...|Rest theory serve...|  NULL|       Married|\n",
      "|2024-02-25 15:16:...|818.42|      Withdrawal|    Renee Roberts|7591 Ponce Unions...|          Amandaside| Massachusetts|            Barbados|           Green Ltd|Psychologist, pri...|                NULL|       695-680-5744|   6011259703732723|GB34HWCA758164830...|          AFN|       4452.0|       C| NULL|       No|2023-07-09 08:03:...|Program sense arm...|  Male|          NULL|\n",
      "|2024-01-01 20:55:...|352.23|      Withdrawal|Jacqueline Thomas|172 Morse Falls A...|         Bennettbury|      Oklahoma|                Fiji|                NULL|Designer, blown g...|  mark84@example.com| 484.837.6166x81262|     30287519972043|GB62WWAH360646956...|          VUV|       2251.0|       C|    Z|      Yes|2022-02-07 00:48:...|Prepare other los...|Female|        Single|\n",
      "|2024-01-19 00:01:...|316.19|      Withdrawal|     Joseph Pratt|71283 Thomas Port...|        Lake Michele|        Nevada|     Kyrgyz Republic|     Morris-Reynolds|          Podiatrist|robert02@example.com| 623.219.7997x39012|   3555463260975431|GB28XTGC966091493...|          PHP|       2208.0|       C|    Y|      Yes|2023-10-16 00:05:...|Blood painting sp...| Other|       Married|\n",
      "|2024-04-09 14:40:...|662.26|      Withdrawal|        Tara Gray|    3476 Johnny Loaf|     South Davidland|     Tennessee|               Tonga|         Sutton-Owen|   Financial planner|ewilliams@example...|               NULL|   6517022443907149|GB64TDZA391035546...|          GNF|         NULL|       C|    X|      Yes|2022-04-21 21:43:...|Station professio...| Other|       Married|\n",
      "|2024-04-15 04:58:...|893.73|         Deposit|  Dominique Lynch|   181 Gregory Ferry|           Jamesfort|         Maine|               Kenya|         Brown Group|Nutritional thera...|suzanne41@example...|       448-821-0207|   3564854271916761|GB58VVHN678787830...|          AED|       2546.0|       B|    Y|      Yes|2021-09-14 07:15:...|Letter hand soldi...| Other|       Married|\n",
      "+--------------------+------+----------------+-----------------+--------------------+--------------------+--------------+--------------------+--------------------+--------------------+--------------------+-------------------+-------------------+--------------------+-------------+-------------+--------+-----+---------+--------------------+--------------------+------+--------------+\n",
      "only showing top 20 rows\n",
      "\n"
     ]
    }
   ],
   "source": [
    "# Extract data \n",
    "# inferSchema=True ; helps infer data types of the schema\n",
    "bank_df = spark.read.csv(\"/Users/villy/Documents/GitHub/DE/data/raw/bank_transactions.csv\", header=True, inferSchema=True)\n",
    "\n",
    "bank_df.show()"
   ]
  },
  {
   "cell_type": "code",
   "execution_count": 7,
   "metadata": {},
   "outputs": [
    {
     "name": "stdout",
     "output_type": "stream",
     "text": [
      "+--------------------+------+----------------+-----------------+--------------------+--------------------+--------------+--------------------+--------------------+--------------------+--------------------+-------------------+-------------------+--------------------+-------------+-------------+--------+-----+---------+--------------------+--------------------+------+--------------+\n",
      "|    Transaction_Date|Amount|Transaction_Type|    Customer_Name|    Customer_Address|       Customer_City|Customer_State|    Customer_Country|             Company|           Job_Title|               Email|       Phone_Number| Credit_Card_Number|                IBAN|Currency_Code|Random_Number|Category|Group|Is_Active|        Last_Updated|         Description|Gender|Marital_Status|\n",
      "+--------------------+------+----------------+-----------------+--------------------+--------------------+--------------+--------------------+--------------------+--------------------+--------------------+-------------------+-------------------+--------------------+-------------+-------------+--------+-----+---------+--------------------+--------------------+------+--------------+\n",
      "|2024-03-23 15:38:...| 34.76|      Withdrawal|       James Neal|54912 Holmes Lodg...|   West Keithborough|       Florida|                Togo|Benson, Johnson a...|                NULL|                NULL|  493.720.6609x7545|   3592901394693441|GB98RBPP090285271...|          MAD|       3167.0|       C|    Z|       No|2020-06-20 03:04:...|Yeah food anythin...| Other|      Divorced|\n",
      "|2024-04-22 19:15:...|163.92|      Withdrawal|      Thomas Long| 1133 Collin Passage|          Joshuabury|   Connecticut|Lao People's Demo...|                NULL|   Food technologist|michellelynch@exa...|      (497)554-3317|               NULL|GB03KFZR339662263...|          VEF|       2122.0|       B|    Z|     NULL|2020-12-27 13:23:...|Teach edge make n...|Female|       Married|\n",
      "|2024-04-12 19:46:...|386.32|      Withdrawal|   Ashley Shelton|5297 Johnson Port...|         North Maria|    New Jersey|              Bhutan|       Jones-Mueller|Database administ...| ljordan@example.org|      (534)769-3072|       675983949974|GB59QYRN446730519...|          COP|       7796.0|       C|    Z|       No|2020-01-24 01:23:...|Again line face c...| Other|          NULL|\n",
      "|2024-04-17 15:29:...|407.15|         Deposit|    James Rosario|56955 Moore Glens...|  North Michellefurt|    New Mexico|             Iceland|       Vargas-Harris|Horticultural the...|parkerjames@examp...|+1-447-900-1320x257|      4761202519057|GB74FTDO268299438...|          BWP|       6284.0|       C|    Z|      Yes|2023-09-27 03:01:...|     Bag my a drive.|  NULL|          NULL|\n",
      "|2024-02-10 01:51:...|161.31|         Deposit|   Miguel Leonard|262 Beck Expressw...|                NULL| West Virginia|             Eritrea|Richardson, Gonza...|   Minerals surveyor| zweaver@example.net|               NULL|    213156729655186|GB94EWRN587847592...|          SOS|       9179.0|       C|    Y|       No|2022-01-22 19:08:...|Husband find ok w...|Female|       Married|\n",
      "|2024-02-10 22:56:...|764.34|        Transfer|      Jesse Clark|      194 Derek Burg|        Wallacemouth|    New Mexico|             Estonia|           Smith Ltd| Seismic interpreter|benjaminwalker@ex...|   229-511-2530x870|       501851472974|                NULL|          ZWD|         NULL|       B|    Z|      Yes|2023-02-18 19:26:...|                NULL| Other|       Married|\n",
      "|2024-04-07 00:07:...|734.59|         Deposit|       Mark Estes|4077 James Lane A...|      Williamsonport|      Michigan|Antarctica (the t...|         Wade-Kelley|  Surveyor, minerals|karenrobinson@exa...|      (840)334-1610|4543690154172468535|GB55FCPC779828821...|          CAD|       7304.0|       A|    X|      Yes|2020-10-27 16:48:...|Standard prepare ...|  Male|          NULL|\n",
      "|2024-03-08 01:51:...|592.43|         Deposit|       Kelly Ruiz|                NULL|          New Lauren|          NULL|                NULL|                NULL|Medical laborator...|  iestes@example.org| 495.430.4276x42618|      4500718397537|GB78FDAJ595830659...|          RON|       2445.0|       B|    X|       No|2022-11-19 08:59:...|                NULL|Female|        Single|\n",
      "|2024-04-02 06:21:...|472.35|        Transfer|             NULL|1467 Heather Vill...|         Conniemouth|          NULL|               Macao|Ellis, Smith and ...|Television/film/v...|rebeccarodriguez@...|       511.666.5891|      4884893247570|GB91HQDO449272193...|          LTL|       2721.0|    NULL|    Z|       No|                NULL|Leg out walk rece...| Other|          NULL|\n",
      "|2024-02-01 12:34:...| 927.1|         Deposit|        Brad Yang|    579 Nolan Harbor|South Christopher...|  South Dakota|                NULL|         Lindsey LLC|Programmer, appli...|maryduran@example...|  (241)738-0972x658|    180039947294310|GB48WNWB013807482...|          HRK|       3061.0|       B|    X|       No|2020-08-31 20:40:...|Notice paper son ...|Female|        Single|\n",
      "|2024-03-22 16:46:...| 66.59|        Transfer|   Dalton Jimenez|4330 Christine Vista|        Port Kirsten|          NULL|            Cameroon|         Carroll LLC|                NULL|                NULL|       670-499-0309|    213171934267032|GB05MHXA361278613...|          BAM|       3958.0|    NULL| NULL|      Yes|2022-09-19 03:52:...|He wish soldier t...|  Male|        Single|\n",
      "|2024-04-23 13:30:...| 246.3|      Withdrawal|   Paige Sheppard|0947 Mendez Under...|          Medinastad|North Carolina|             Iceland|                NULL|     Sales executive|  eric64@example.net|               NULL|    342940028197162|GB54HHLQ489156729...|          ZWD|       8312.0|    NULL|    Z|      Yes|2023-06-02 04:34:...|This speak buildi...|  Male|      Divorced|\n",
      "|2024-04-24 20:44:...| 17.74|        Transfer|        Ryan Rice|63191 Carol River...|       North Heather|      Virginia|               Gabon|     Arnold-Hamilton|Biomedical scientist|gonzalestammy@exa...|      (891)958-6442|   4263644221766495|GB47BGNG208602249...|          AOA|       6148.0|       D|    Y|       No|                NULL|Camera spring tea...|Female|          NULL|\n",
      "|2024-02-23 05:48:...|640.74|      Withdrawal|   Danielle Young| 8484 Kelley Circles|           Karahaven|    New Jersey|            Dominica|        Fox and Sons|Operational inves...| maria62@example.net|               NULL|       675908517708|GB92DFSO760691881...|          TJS|         NULL|       B|    Z|      Yes|                NULL|Occur second offe...|Female|       Married|\n",
      "|2024-01-13 01:22:...|782.32|      Withdrawal|   Stephen Nguyen|    01696 Brown Cape|          South Mary|       Wyoming|Heard Island and ...|Lynch, Hayes and ...|       Stage manager|stewartjames@exam...|  680-460-3674x6031|   4304956118653227|GB15VYWJ018711823...|          NIO|       2502.0|       B|    Y|      Yes|2021-04-12 20:23:...|Rest theory serve...|  NULL|       Married|\n",
      "|2024-02-25 15:16:...|818.42|      Withdrawal|    Renee Roberts|7591 Ponce Unions...|          Amandaside| Massachusetts|            Barbados|           Green Ltd|Psychologist, pri...|                NULL|       695-680-5744|   6011259703732723|GB34HWCA758164830...|          AFN|       4452.0|       C| NULL|       No|2023-07-09 08:03:...|Program sense arm...|  Male|          NULL|\n",
      "|2024-01-01 20:55:...|352.23|      Withdrawal|Jacqueline Thomas|172 Morse Falls A...|         Bennettbury|      Oklahoma|                Fiji|                NULL|Designer, blown g...|  mark84@example.com| 484.837.6166x81262|     30287519972043|GB62WWAH360646956...|          VUV|       2251.0|       C|    Z|      Yes|2022-02-07 00:48:...|Prepare other los...|Female|        Single|\n",
      "|2024-01-19 00:01:...|316.19|      Withdrawal|     Joseph Pratt|71283 Thomas Port...|        Lake Michele|        Nevada|     Kyrgyz Republic|     Morris-Reynolds|          Podiatrist|robert02@example.com| 623.219.7997x39012|   3555463260975431|GB28XTGC966091493...|          PHP|       2208.0|       C|    Y|      Yes|2023-10-16 00:05:...|Blood painting sp...| Other|       Married|\n",
      "|2024-04-09 14:40:...|662.26|      Withdrawal|        Tara Gray|    3476 Johnny Loaf|     South Davidland|     Tennessee|               Tonga|         Sutton-Owen|   Financial planner|ewilliams@example...|               NULL|   6517022443907149|GB64TDZA391035546...|          GNF|         NULL|       C|    X|      Yes|2022-04-21 21:43:...|Station professio...| Other|       Married|\n",
      "|2024-04-15 04:58:...|893.73|         Deposit|  Dominique Lynch|   181 Gregory Ferry|           Jamesfort|         Maine|               Kenya|         Brown Group|Nutritional thera...|suzanne41@example...|       448-821-0207|   3564854271916761|GB58VVHN678787830...|          AED|       2546.0|       B|    Y|      Yes|2021-09-14 07:15:...|Letter hand soldi...| Other|       Married|\n",
      "+--------------------+------+----------------+-----------------+--------------------+--------------------+--------------+--------------------+--------------------+--------------------+--------------------+-------------------+-------------------+--------------------+-------------+-------------+--------+-----+---------+--------------------+--------------------+------+--------------+\n",
      "only showing top 20 rows\n",
      "\n"
     ]
    }
   ],
   "source": [
    "bank_df.show()"
   ]
  },
  {
   "cell_type": "code",
   "execution_count": 8,
   "metadata": {},
   "outputs": [
    {
     "name": "stdout",
     "output_type": "stream",
     "text": [
      "root\n",
      " |-- Transaction_Date: timestamp (nullable = true)\n",
      " |-- Amount: double (nullable = true)\n",
      " |-- Transaction_Type: string (nullable = true)\n",
      " |-- Customer_Name: string (nullable = true)\n",
      " |-- Customer_Address: string (nullable = true)\n",
      " |-- Customer_City: string (nullable = true)\n",
      " |-- Customer_State: string (nullable = true)\n",
      " |-- Customer_Country: string (nullable = true)\n",
      " |-- Company: string (nullable = true)\n",
      " |-- Job_Title: string (nullable = true)\n",
      " |-- Email: string (nullable = true)\n",
      " |-- Phone_Number: string (nullable = true)\n",
      " |-- Credit_Card_Number: long (nullable = true)\n",
      " |-- IBAN: string (nullable = true)\n",
      " |-- Currency_Code: string (nullable = true)\n",
      " |-- Random_Number: double (nullable = true)\n",
      " |-- Category: string (nullable = true)\n",
      " |-- Group: string (nullable = true)\n",
      " |-- Is_Active: string (nullable = true)\n",
      " |-- Last_Updated: timestamp (nullable = true)\n",
      " |-- Description: string (nullable = true)\n",
      " |-- Gender: string (nullable = true)\n",
      " |-- Marital_Status: string (nullable = true)\n",
      "\n"
     ]
    }
   ],
   "source": [
    "# investigate the schema\n",
    "bank_df.printSchema()"
   ]
  },
  {
   "cell_type": "code",
   "execution_count": 9,
   "metadata": {},
   "outputs": [
    {
     "name": "stderr",
     "output_type": "stream",
     "text": [
      "                                                                                \r"
     ]
    },
    {
     "data": {
      "text/plain": [
       "1000000"
      ]
     },
     "execution_count": 9,
     "metadata": {},
     "output_type": "execute_result"
    }
   ],
   "source": [
    "# row count, data count\n",
    "bank_df.count()"
   ]
  },
  {
   "cell_type": "code",
   "execution_count": 10,
   "metadata": {},
   "outputs": [
    {
     "data": {
      "text/plain": [
       "23"
      ]
     },
     "execution_count": 10,
     "metadata": {},
     "output_type": "execute_result"
    }
   ],
   "source": [
    "# number of column \n",
    "len(bank_df.columns)"
   ]
  },
  {
   "cell_type": "code",
   "execution_count": 11,
   "metadata": {},
   "outputs": [
    {
     "data": {
      "text/plain": [
       "['Transaction_Date',\n",
       " 'Amount',\n",
       " 'Transaction_Type',\n",
       " 'Customer_Name',\n",
       " 'Customer_Address',\n",
       " 'Customer_City',\n",
       " 'Customer_State',\n",
       " 'Customer_Country',\n",
       " 'Company',\n",
       " 'Job_Title',\n",
       " 'Email',\n",
       " 'Phone_Number',\n",
       " 'Credit_Card_Number',\n",
       " 'IBAN',\n",
       " 'Currency_Code',\n",
       " 'Random_Number',\n",
       " 'Category',\n",
       " 'Group',\n",
       " 'Is_Active',\n",
       " 'Last_Updated',\n",
       " 'Description',\n",
       " 'Gender',\n",
       " 'Marital_Status']"
      ]
     },
     "execution_count": 11,
     "metadata": {},
     "output_type": "execute_result"
    }
   ],
   "source": [
    "bank_df.columns"
   ]
  },
  {
   "cell_type": "code",
   "execution_count": 12,
   "metadata": {},
   "outputs": [
    {
     "name": "stderr",
     "output_type": "stream",
     "text": [
      "                                                                                \r"
     ]
    },
    {
     "name": "stdout",
     "output_type": "stream",
     "text": [
      "Transaction_Date Nulls 0\n"
     ]
    },
    {
     "name": "stderr",
     "output_type": "stream",
     "text": [
      "                                                                                \r"
     ]
    },
    {
     "name": "stdout",
     "output_type": "stream",
     "text": [
      "Amount Nulls 0\n"
     ]
    },
    {
     "name": "stderr",
     "output_type": "stream",
     "text": [
      "                                                                                \r"
     ]
    },
    {
     "name": "stdout",
     "output_type": "stream",
     "text": [
      "Transaction_Type Nulls 0\n"
     ]
    },
    {
     "name": "stderr",
     "output_type": "stream",
     "text": [
      "                                                                                \r"
     ]
    },
    {
     "name": "stdout",
     "output_type": "stream",
     "text": [
      "Customer_Name Nulls 100425\n"
     ]
    },
    {
     "name": "stderr",
     "output_type": "stream",
     "text": [
      "                                                                                \r"
     ]
    },
    {
     "name": "stdout",
     "output_type": "stream",
     "text": [
      "Customer_Address Nulls 100087\n"
     ]
    },
    {
     "name": "stderr",
     "output_type": "stream",
     "text": [
      "                                                                                \r"
     ]
    },
    {
     "name": "stdout",
     "output_type": "stream",
     "text": [
      "Customer_City Nulls 100034\n"
     ]
    },
    {
     "name": "stderr",
     "output_type": "stream",
     "text": [
      "                                                                                \r"
     ]
    },
    {
     "name": "stdout",
     "output_type": "stream",
     "text": [
      "Customer_State Nulls 100009\n"
     ]
    },
    {
     "name": "stderr",
     "output_type": "stream",
     "text": [
      "                                                                                \r"
     ]
    },
    {
     "name": "stdout",
     "output_type": "stream",
     "text": [
      "Customer_Country Nulls 100672\n"
     ]
    },
    {
     "name": "stderr",
     "output_type": "stream",
     "text": [
      "                                                                                \r"
     ]
    },
    {
     "name": "stdout",
     "output_type": "stream",
     "text": [
      "Company Nulls 100295\n"
     ]
    },
    {
     "name": "stderr",
     "output_type": "stream",
     "text": [
      "                                                                                \r"
     ]
    },
    {
     "name": "stdout",
     "output_type": "stream",
     "text": [
      "Job_Title Nulls 99924\n"
     ]
    },
    {
     "name": "stderr",
     "output_type": "stream",
     "text": [
      "                                                                                \r"
     ]
    },
    {
     "name": "stdout",
     "output_type": "stream",
     "text": [
      "Email Nulls 100043\n"
     ]
    },
    {
     "name": "stderr",
     "output_type": "stream",
     "text": [
      "                                                                                \r"
     ]
    },
    {
     "name": "stdout",
     "output_type": "stream",
     "text": [
      "Phone_Number Nulls 100524\n"
     ]
    },
    {
     "name": "stderr",
     "output_type": "stream",
     "text": [
      "                                                                                \r"
     ]
    },
    {
     "name": "stdout",
     "output_type": "stream",
     "text": [
      "Credit_Card_Number Nulls 100085\n"
     ]
    },
    {
     "name": "stderr",
     "output_type": "stream",
     "text": [
      "                                                                                \r"
     ]
    },
    {
     "name": "stdout",
     "output_type": "stream",
     "text": [
      "IBAN Nulls 100300\n"
     ]
    },
    {
     "name": "stderr",
     "output_type": "stream",
     "text": [
      "                                                                                \r"
     ]
    },
    {
     "name": "stdout",
     "output_type": "stream",
     "text": [
      "Currency_Code Nulls 99342\n"
     ]
    },
    {
     "name": "stderr",
     "output_type": "stream",
     "text": [
      "                                                                                \r"
     ]
    },
    {
     "name": "stdout",
     "output_type": "stream",
     "text": [
      "Random_Number Nulls 99913\n"
     ]
    },
    {
     "name": "stderr",
     "output_type": "stream",
     "text": [
      "                                                                                \r"
     ]
    },
    {
     "name": "stdout",
     "output_type": "stream",
     "text": [
      "Category Nulls 100332\n"
     ]
    },
    {
     "name": "stderr",
     "output_type": "stream",
     "text": [
      "                                                                                \r"
     ]
    },
    {
     "name": "stdout",
     "output_type": "stream",
     "text": [
      "Group Nulls 100209\n"
     ]
    },
    {
     "name": "stderr",
     "output_type": "stream",
     "text": [
      "                                                                                \r"
     ]
    },
    {
     "name": "stdout",
     "output_type": "stream",
     "text": [
      "Is_Active Nulls 100259\n"
     ]
    },
    {
     "name": "stderr",
     "output_type": "stream",
     "text": [
      "                                                                                \r"
     ]
    },
    {
     "name": "stdout",
     "output_type": "stream",
     "text": [
      "Last_Updated Nulls 100321\n"
     ]
    },
    {
     "name": "stderr",
     "output_type": "stream",
     "text": [
      "                                                                                \r"
     ]
    },
    {
     "name": "stdout",
     "output_type": "stream",
     "text": [
      "Description Nulls 100403\n"
     ]
    },
    {
     "name": "stderr",
     "output_type": "stream",
     "text": [
      "                                                                                \r"
     ]
    },
    {
     "name": "stdout",
     "output_type": "stream",
     "text": [
      "Gender Nulls 99767\n"
     ]
    },
    {
     "name": "stderr",
     "output_type": "stream",
     "text": [
      "[Stage 73:>                                                         (0 + 4) / 4]\r"
     ]
    },
    {
     "name": "stdout",
     "output_type": "stream",
     "text": [
      "Marital_Status Nulls 99904\n"
     ]
    },
    {
     "name": "stderr",
     "output_type": "stream",
     "text": [
      "                                                                                \r"
     ]
    }
   ],
   "source": [
    "# checking for null values\n",
    "for column in bank_df.columns:\n",
    "    print(column, 'Nulls', bank_df.filter(bank_df[column].isNull()).count())"
   ]
  },
  {
   "cell_type": "code",
   "execution_count": 13,
   "metadata": {},
   "outputs": [],
   "source": [
    "# Fillna in respect to data type\n",
    "bank_df_clean = bank_df.fillna({\n",
    "    'Customer_Name':'Unknown',\n",
    "    'Customer_Address' : 'Unknown',\n",
    "    'Customer_City':'Unknown',\n",
    "    'Customer_State':'Unknown',\n",
    "    'Customer_Country':'Unknown',\n",
    "    'Company':'Unknown',\n",
    "    'Job_Title':'Unknown',\n",
    "    'Email':'Unknown',\n",
    "    'Phone_Number':'Unknown',\n",
    "    'Credit_Card_Number':0,\n",
    "    'IBAN':'Unknown',\n",
    "    'Currency_Code':'Unknown',\n",
    "    'Random_Number':0.0,\n",
    "    'Category':'Unknown',\n",
    "    'Group':'Unknown',\n",
    "    'Is_Active':'Unknown',\n",
    "    'Description':'Unknown',\n",
    "    'Gender':'Unknown',\n",
    "    'Marital_Status':'Unknown'\n",
    "})"
   ]
  },
  {
   "cell_type": "code",
   "execution_count": 14,
   "metadata": {},
   "outputs": [
    {
     "name": "stderr",
     "output_type": "stream",
     "text": [
      "[Stage 76:==============>                                           (1 + 3) / 4]\r"
     ]
    },
    {
     "name": "stdout",
     "output_type": "stream",
     "text": [
      "+----------------+------+----------------+-------------+----------------+-------------+--------------+----------------+-------+---------+-----+------------+------------------+----+-------------+-------------+--------+-----+---------+------------+-----------+------+--------------+\n",
      "|Transaction_Date|Amount|Transaction_Type|Customer_Name|Customer_Address|Customer_City|Customer_State|Customer_Country|Company|Job_Title|Email|Phone_Number|Credit_Card_Number|IBAN|Currency_Code|Random_Number|Category|Group|Is_Active|Last_Updated|Description|Gender|Marital_Status|\n",
      "+----------------+------+----------------+-------------+----------------+-------------+--------------+----------------+-------+---------+-----+------------+------------------+----+-------------+-------------+--------+-----+---------+------------+-----------+------+--------------+\n",
      "|               0|     0|               0|            0|               0|            0|             0|               0|      0|        0|    0|           0|                 0|   0|            0|            0|       0|    0|        0|      100321|          0|     0|             0|\n",
      "+----------------+------+----------------+-------------+----------------+-------------+--------------+----------------+-------+---------+-----+------------+------------------+----+-------------+-------------+--------+-----+---------+------------+-----------+------+--------------+\n",
      "\n"
     ]
    },
    {
     "name": "stderr",
     "output_type": "stream",
     "text": [
      "                                                                                \r"
     ]
    }
   ],
   "source": [
    "from pyspark.sql.functions import col, count, when\n",
    "\n",
    "#inspect columns with null\n",
    "bank_df_clean.select([count(when(col(c).isNull(), c)).alias(c) for c in bank_df_clean.columns]).show()\n"
   ]
  },
  {
   "cell_type": "code",
   "execution_count": 15,
   "metadata": {},
   "outputs": [
    {
     "name": "stderr",
     "output_type": "stream",
     "text": [
      "[Stage 80:===================>                                      (1 + 2) / 3]\r"
     ]
    },
    {
     "name": "stdout",
     "output_type": "stream",
     "text": [
      "+----------------+------+----------------+-------------+----------------+-------------+--------------+----------------+-------+---------+-----+------------+------------------+----+-------------+-------------+--------+-----+---------+------------+-----------+------+--------------+\n",
      "|Transaction_Date|Amount|Transaction_Type|Customer_Name|Customer_Address|Customer_City|Customer_State|Customer_Country|Company|Job_Title|Email|Phone_Number|Credit_Card_Number|IBAN|Currency_Code|Random_Number|Category|Group|Is_Active|Last_Updated|Description|Gender|Marital_Status|\n",
      "+----------------+------+----------------+-------------+----------------+-------------+--------------+----------------+-------+---------+-----+------------+------------------+----+-------------+-------------+--------+-----+---------+------------+-----------+------+--------------+\n",
      "+----------------+------+----------------+-------------+----------------+-------------+--------------+----------------+-------+---------+-----+------------+------------------+----+-------------+-------------+--------+-----+---------+------------+-----------+------+--------------+\n",
      "\n"
     ]
    },
    {
     "name": "stderr",
     "output_type": "stream",
     "text": [
      "                                                                                \r"
     ]
    }
   ],
   "source": [
    "#drop 'Last_Updated' column . it is about 10% of the whole data\n",
    "bank_df_clean = bank_df_clean.dropna(subset=['Last_Updated'])\n",
    "\n",
    "# check null value to verify changes\n",
    "bank_df_clean.filter(col(\"Last_Updated\").isNull()).show()"
   ]
  },
  {
   "cell_type": "code",
   "execution_count": 16,
   "metadata": {},
   "outputs": [
    {
     "name": "stderr",
     "output_type": "stream",
     "text": [
      "[Stage 81:==============>                                           (1 + 3) / 4]\r"
     ]
    },
    {
     "name": "stdout",
     "output_type": "stream",
     "text": [
      "+----------------+------+----------------+-------------+----------------+-------------+--------------+----------------+-------+---------+-----+------------+------------------+----+-------------+-------------+--------+-----+---------+------------+-----------+------+--------------+\n",
      "|Transaction_Date|Amount|Transaction_Type|Customer_Name|Customer_Address|Customer_City|Customer_State|Customer_Country|Company|Job_Title|Email|Phone_Number|Credit_Card_Number|IBAN|Currency_Code|Random_Number|Category|Group|Is_Active|Last_Updated|Description|Gender|Marital_Status|\n",
      "+----------------+------+----------------+-------------+----------------+-------------+--------------+----------------+-------+---------+-----+------------+------------------+----+-------------+-------------+--------+-----+---------+------------+-----------+------+--------------+\n",
      "|               0|     0|               0|            0|               0|            0|             0|               0|      0|        0|    0|           0|                 0|   0|            0|            0|       0|    0|        0|           0|          0|     0|             0|\n",
      "+----------------+------+----------------+-------------+----------------+-------------+--------------+----------------+-------+---------+-----+------------+------------------+----+-------------+-------------+--------+-----+---------+------------+-----------+------+--------------+\n",
      "\n"
     ]
    },
    {
     "name": "stderr",
     "output_type": "stream",
     "text": [
      "                                                                                \r"
     ]
    }
   ],
   "source": [
    "#inspect columns with null\n",
    "bank_df_clean.select([count(when(col(c).isNull(), c)).alias(c) for c in bank_df_clean.columns]).show()\n"
   ]
  },
  {
   "cell_type": "code",
   "execution_count": 17,
   "metadata": {},
   "outputs": [
    {
     "name": "stderr",
     "output_type": "stream",
     "text": [
      "                                                                                \r"
     ]
    },
    {
     "data": {
      "text/plain": [
       "899679"
      ]
     },
     "execution_count": 17,
     "metadata": {},
     "output_type": "execute_result"
    }
   ],
   "source": [
    "# row count, data count\n",
    "bank_df_clean.count()"
   ]
  },
  {
   "cell_type": "code",
   "execution_count": 18,
   "metadata": {},
   "outputs": [
    {
     "name": "stderr",
     "output_type": "stream",
     "text": [
      "24/06/23 12:49:53 WARN SparkStringUtils: Truncated the string representation of a plan since it was too large. This behavior can be adjusted by setting 'spark.sql.debug.maxToStringFields'.\n",
      "[Stage 89:>                                                         (0 + 1) / 1]\r"
     ]
    },
    {
     "name": "stdout",
     "output_type": "stream",
     "text": [
      "+-------+------------------+----------------+-------------+--------------------+-------------+--------------+----------------+-------------+------------------+-------------------+--------------------+--------------------+--------------------+-------------+-----------------+--------+-------+---------+--------------------+-------+--------------+\n",
      "|summary|            Amount|Transaction_Type|Customer_Name|    Customer_Address|Customer_City|Customer_State|Customer_Country|      Company|         Job_Title|              Email|        Phone_Number|  Credit_Card_Number|                IBAN|Currency_Code|    Random_Number|Category|  Group|Is_Active|         Description| Gender|Marital_Status|\n",
      "+-------+------------------+----------------+-------------+--------------------+-------------+--------------+----------------+-------------+------------------+-------------------+--------------------+--------------------+--------------------+-------------+-----------------+--------+-------+---------+--------------------+-------+--------------+\n",
      "|  count|            899679|          899679|       899679|              899679|       899679|        899679|          899679|       899679|            899679|             899679|              899679|              899679|              899679|       899679|           899679|  899679| 899679|   899679|              899679| 899679|        899679|\n",
      "|   mean|505.10367708927123|            NULL|         NULL|                NULL|         NULL|          NULL|            NULL|         NULL|              NULL|               NULL| 6.002851385999521E9|3.409662226750533...|                NULL|         NULL|4952.920380491264|    NULL|   NULL|     NULL|                NULL|   NULL|          NULL|\n",
      "| stddev| 285.7945343300485|            NULL|         NULL|                NULL|         NULL|          NULL|            NULL|         NULL|              NULL|               NULL|2.3068371038619423E9|1.189655005733000...|                NULL|         NULL|2966.543401151591|    NULL|   NULL|     NULL|                NULL|   NULL|          NULL|\n",
      "|    min|              10.0|         Deposit| Aaron Abbott|000 Aaron Landing...|    Aaronberg|       Alabama|     Afghanistan| Abbott Group|Academic librarian|            Unknown|       (200)201-4254|                   0|GB02AAAU191993009...|          AED|              0.0|       A|Unknown|       No|A American and to...| Female|      Divorced|\n",
      "|    max|            1000.0|      Withdrawal|    Zoe Young|             Unknown|  Zunigaville|       Wyoming|        Zimbabwe|Zuniga-Wilson|      Youth worker|zzuniga@example.org|             Unknown| 4999984361512569455|             Unknown|          ZWD|           9999.0| Unknown|      Z|      Yes|Yourself young ev...|Unknown|       Unknown|\n",
      "+-------+------------------+----------------+-------------+--------------------+-------------+--------------+----------------+-------------+------------------+-------------------+--------------------+--------------------+--------------------+-------------+-----------------+--------+-------+---------+--------------------+-------+--------------+\n",
      "\n"
     ]
    },
    {
     "name": "stderr",
     "output_type": "stream",
     "text": [
      "                                                                                \r"
     ]
    }
   ],
   "source": [
    "# explore summary statistics of the data\n",
    "bank_df_clean.describe().show()"
   ]
  },
  {
   "cell_type": "markdown",
   "metadata": {},
   "source": [
    "# Build Data Model\n"
   ]
  },
  {
   "cell_type": "code",
   "execution_count": 19,
   "metadata": {},
   "outputs": [
    {
     "data": {
      "text/plain": [
       "['Transaction_Date',\n",
       " 'Amount',\n",
       " 'Transaction_Type',\n",
       " 'Customer_Name',\n",
       " 'Customer_Address',\n",
       " 'Customer_City',\n",
       " 'Customer_State',\n",
       " 'Customer_Country',\n",
       " 'Company',\n",
       " 'Job_Title',\n",
       " 'Email',\n",
       " 'Phone_Number',\n",
       " 'Credit_Card_Number',\n",
       " 'IBAN',\n",
       " 'Currency_Code',\n",
       " 'Random_Number',\n",
       " 'Category',\n",
       " 'Group',\n",
       " 'Is_Active',\n",
       " 'Last_Updated',\n",
       " 'Description',\n",
       " 'Gender',\n",
       " 'Marital_Status']"
      ]
     },
     "execution_count": 19,
     "metadata": {},
     "output_type": "execute_result"
    }
   ],
   "source": [
    "bank_df_clean.columns"
   ]
  },
  {
   "cell_type": "code",
   "execution_count": 20,
   "metadata": {},
   "outputs": [
    {
     "name": "stdout",
     "output_type": "stream",
     "text": [
      "+--------------------+------+----------------+-----------------+--------------------+--------------------+--------------+--------------------+--------------------+--------------------+--------------------+-------------------+-------------------+--------------------+-------------+-------------+--------+-------+---------+--------------------+--------------------+-------+--------------+\n",
      "|    Transaction_Date|Amount|Transaction_Type|    Customer_Name|    Customer_Address|       Customer_City|Customer_State|    Customer_Country|             Company|           Job_Title|               Email|       Phone_Number| Credit_Card_Number|                IBAN|Currency_Code|Random_Number|Category|  Group|Is_Active|        Last_Updated|         Description| Gender|Marital_Status|\n",
      "+--------------------+------+----------------+-----------------+--------------------+--------------------+--------------+--------------------+--------------------+--------------------+--------------------+-------------------+-------------------+--------------------+-------------+-------------+--------+-------+---------+--------------------+--------------------+-------+--------------+\n",
      "|2024-03-23 15:38:...| 34.76|      Withdrawal|       James Neal|54912 Holmes Lodg...|   West Keithborough|       Florida|                Togo|Benson, Johnson a...|             Unknown|             Unknown|  493.720.6609x7545|   3592901394693441|GB98RBPP090285271...|          MAD|       3167.0|       C|      Z|       No|2020-06-20 03:04:...|Yeah food anythin...|  Other|      Divorced|\n",
      "|2024-04-22 19:15:...|163.92|      Withdrawal|      Thomas Long| 1133 Collin Passage|          Joshuabury|   Connecticut|Lao People's Demo...|             Unknown|   Food technologist|michellelynch@exa...|      (497)554-3317|                  0|GB03KFZR339662263...|          VEF|       2122.0|       B|      Z|  Unknown|2020-12-27 13:23:...|Teach edge make n...| Female|       Married|\n",
      "|2024-04-12 19:46:...|386.32|      Withdrawal|   Ashley Shelton|5297 Johnson Port...|         North Maria|    New Jersey|              Bhutan|       Jones-Mueller|Database administ...| ljordan@example.org|      (534)769-3072|       675983949974|GB59QYRN446730519...|          COP|       7796.0|       C|      Z|       No|2020-01-24 01:23:...|Again line face c...|  Other|       Unknown|\n",
      "|2024-04-17 15:29:...|407.15|         Deposit|    James Rosario|56955 Moore Glens...|  North Michellefurt|    New Mexico|             Iceland|       Vargas-Harris|Horticultural the...|parkerjames@examp...|+1-447-900-1320x257|      4761202519057|GB74FTDO268299438...|          BWP|       6284.0|       C|      Z|      Yes|2023-09-27 03:01:...|     Bag my a drive.|Unknown|       Unknown|\n",
      "|2024-02-10 01:51:...|161.31|         Deposit|   Miguel Leonard|262 Beck Expressw...|             Unknown| West Virginia|             Eritrea|Richardson, Gonza...|   Minerals surveyor| zweaver@example.net|            Unknown|    213156729655186|GB94EWRN587847592...|          SOS|       9179.0|       C|      Y|       No|2022-01-22 19:08:...|Husband find ok w...| Female|       Married|\n",
      "|2024-02-10 22:56:...|764.34|        Transfer|      Jesse Clark|      194 Derek Burg|        Wallacemouth|    New Mexico|             Estonia|           Smith Ltd| Seismic interpreter|benjaminwalker@ex...|   229-511-2530x870|       501851472974|             Unknown|          ZWD|          0.0|       B|      Z|      Yes|2023-02-18 19:26:...|             Unknown|  Other|       Married|\n",
      "|2024-04-07 00:07:...|734.59|         Deposit|       Mark Estes|4077 James Lane A...|      Williamsonport|      Michigan|Antarctica (the t...|         Wade-Kelley|  Surveyor, minerals|karenrobinson@exa...|      (840)334-1610|4543690154172468535|GB55FCPC779828821...|          CAD|       7304.0|       A|      X|      Yes|2020-10-27 16:48:...|Standard prepare ...|   Male|       Unknown|\n",
      "|2024-03-08 01:51:...|592.43|         Deposit|       Kelly Ruiz|             Unknown|          New Lauren|       Unknown|             Unknown|             Unknown|Medical laborator...|  iestes@example.org| 495.430.4276x42618|      4500718397537|GB78FDAJ595830659...|          RON|       2445.0|       B|      X|       No|2022-11-19 08:59:...|             Unknown| Female|        Single|\n",
      "|2024-02-01 12:34:...| 927.1|         Deposit|        Brad Yang|    579 Nolan Harbor|South Christopher...|  South Dakota|             Unknown|         Lindsey LLC|Programmer, appli...|maryduran@example...|  (241)738-0972x658|    180039947294310|GB48WNWB013807482...|          HRK|       3061.0|       B|      X|       No|2020-08-31 20:40:...|Notice paper son ...| Female|        Single|\n",
      "|2024-03-22 16:46:...| 66.59|        Transfer|   Dalton Jimenez|4330 Christine Vista|        Port Kirsten|       Unknown|            Cameroon|         Carroll LLC|             Unknown|             Unknown|       670-499-0309|    213171934267032|GB05MHXA361278613...|          BAM|       3958.0| Unknown|Unknown|      Yes|2022-09-19 03:52:...|He wish soldier t...|   Male|        Single|\n",
      "|2024-04-23 13:30:...| 246.3|      Withdrawal|   Paige Sheppard|0947 Mendez Under...|          Medinastad|North Carolina|             Iceland|             Unknown|     Sales executive|  eric64@example.net|            Unknown|    342940028197162|GB54HHLQ489156729...|          ZWD|       8312.0| Unknown|      Z|      Yes|2023-06-02 04:34:...|This speak buildi...|   Male|      Divorced|\n",
      "|2024-01-13 01:22:...|782.32|      Withdrawal|   Stephen Nguyen|    01696 Brown Cape|          South Mary|       Wyoming|Heard Island and ...|Lynch, Hayes and ...|       Stage manager|stewartjames@exam...|  680-460-3674x6031|   4304956118653227|GB15VYWJ018711823...|          NIO|       2502.0|       B|      Y|      Yes|2021-04-12 20:23:...|Rest theory serve...|Unknown|       Married|\n",
      "|2024-02-25 15:16:...|818.42|      Withdrawal|    Renee Roberts|7591 Ponce Unions...|          Amandaside| Massachusetts|            Barbados|           Green Ltd|Psychologist, pri...|             Unknown|       695-680-5744|   6011259703732723|GB34HWCA758164830...|          AFN|       4452.0|       C|Unknown|       No|2023-07-09 08:03:...|Program sense arm...|   Male|       Unknown|\n",
      "|2024-01-01 20:55:...|352.23|      Withdrawal|Jacqueline Thomas|172 Morse Falls A...|         Bennettbury|      Oklahoma|                Fiji|             Unknown|Designer, blown g...|  mark84@example.com| 484.837.6166x81262|     30287519972043|GB62WWAH360646956...|          VUV|       2251.0|       C|      Z|      Yes|2022-02-07 00:48:...|Prepare other los...| Female|        Single|\n",
      "|2024-01-19 00:01:...|316.19|      Withdrawal|     Joseph Pratt|71283 Thomas Port...|        Lake Michele|        Nevada|     Kyrgyz Republic|     Morris-Reynolds|          Podiatrist|robert02@example.com| 623.219.7997x39012|   3555463260975431|GB28XTGC966091493...|          PHP|       2208.0|       C|      Y|      Yes|2023-10-16 00:05:...|Blood painting sp...|  Other|       Married|\n",
      "|2024-04-09 14:40:...|662.26|      Withdrawal|        Tara Gray|    3476 Johnny Loaf|     South Davidland|     Tennessee|               Tonga|         Sutton-Owen|   Financial planner|ewilliams@example...|            Unknown|   6517022443907149|GB64TDZA391035546...|          GNF|          0.0|       C|      X|      Yes|2022-04-21 21:43:...|Station professio...|  Other|       Married|\n",
      "|2024-04-15 04:58:...|893.73|         Deposit|  Dominique Lynch|   181 Gregory Ferry|           Jamesfort|         Maine|               Kenya|         Brown Group|Nutritional thera...|suzanne41@example...|       448-821-0207|   3564854271916761|GB58VVHN678787830...|          AED|       2546.0|       B|      Y|      Yes|2021-09-14 07:15:...|Letter hand soldi...|  Other|       Married|\n",
      "|2024-04-12 14:32:...|746.22|      Withdrawal|      Sarah Brown|    4645 Smith Drive|        Arellanobury|   Mississippi|             Mayotte|         Scott Group|     Games developer|sullivandiane@exa...|(643)844-2202x42284|   4208689195351269|GB50PNSL835125216...|          TND|          0.0|       A|      Z|       No|2022-04-09 05:14:...|Any draw fast soc...|  Other|       Married|\n",
      "|2024-02-26 14:43:...|214.77|      Withdrawal|    Michael Brown|94463 Novak Turnp...|        North Robert|       Unknown|             Somalia|Bryant, Huffman a...|Research scientis...|elliserica@exampl...|   214-650-4477x630|    213112163828334|GB50TJFN039979307...|          SVC|       7382.0|       B|      Z|      Yes|2020-01-19 18:19:...|Great evening so ...|  Other|       Married|\n",
      "|2024-01-17 14:50:...|726.94|      Withdrawal|     Tamara Clark|   4902 Torres Ports|        Bridgesmouth|     Tennessee|        Turkmenistan|          Palmer PLC|             Unknown|annerice@example.com|  (528)927-0111x373|        60430636658|GB86TNQV819996269...|          HTG|       9638.0|       B|      X|      Yes|2022-12-17 17:06:...|Throw fill attent...|   Male|      Divorced|\n",
      "+--------------------+------+----------------+-----------------+--------------------+--------------------+--------------+--------------------+--------------------+--------------------+--------------------+-------------------+-------------------+--------------------+-------------+-------------+--------+-------+---------+--------------------+--------------------+-------+--------------+\n",
      "only showing top 20 rows\n",
      "\n"
     ]
    }
   ],
   "source": [
    "bank_df_clean.show()"
   ]
  },
  {
   "cell_type": "code",
   "execution_count": 21,
   "metadata": {},
   "outputs": [],
   "source": [
    "# transaction table \n",
    "transaction_dim = bank_df_clean.select('Transaction_Date',\n",
    " 'Amount',\n",
    " 'Transaction_Type')"
   ]
  },
  {
   "cell_type": "code",
   "execution_count": 22,
   "metadata": {},
   "outputs": [
    {
     "name": "stdout",
     "output_type": "stream",
     "text": [
      "+--------------+------+----------------+--------------------+\n",
      "|transaction_id|Amount|Transaction_Type|    Transaction_Date|\n",
      "+--------------+------+----------------+--------------------+\n",
      "|             0| 34.76|      Withdrawal|2024-03-23 15:38:...|\n",
      "|             1|163.92|      Withdrawal|2024-04-22 19:15:...|\n",
      "|             2|386.32|      Withdrawal|2024-04-12 19:46:...|\n",
      "+--------------+------+----------------+--------------------+\n",
      "only showing top 3 rows\n",
      "\n"
     ]
    }
   ],
   "source": [
    "# adding transaction_id column using monotonycally increasing id function\n",
    "transaction_dim = transaction_dim.withColumn('transaction_id', monotonically_increasing_id())\n",
    "\n",
    "# re-arrange \n",
    "transaction_dim = transaction_dim.select('transaction_id','Amount','Transaction_Type','Transaction_Date')\n",
    "transaction_dim.show(3)"
   ]
  },
  {
   "cell_type": "code",
   "execution_count": 23,
   "metadata": {},
   "outputs": [
    {
     "name": "stderr",
     "output_type": "stream",
     "text": [
      "[Stage 92:=============================>                            (2 + 2) / 4]\r"
     ]
    },
    {
     "name": "stdout",
     "output_type": "stream",
     "text": [
      "+-----------+----------------+--------------------+-------------+--------------+--------------------+\n",
      "|customer_id|   Customer_Name|    Customer_Address|Customer_City|Customer_State|    Customer_Country|\n",
      "+-----------+----------------+--------------------+-------------+--------------+--------------------+\n",
      "|          0|     Jamie Dixon|0146 Veronica Mou...|    Jonesland|      Delaware|        Saint Martin|\n",
      "|          1|Jennifer Kennedy|     388 Susan Forks|   East Jason|          Ohio|United States of ...|\n",
      "|          2|     Susan Green|40609 Amber Junct...|     Markfort|      Colorado|       Liechtenstein|\n",
      "+-----------+----------------+--------------------+-------------+--------------+--------------------+\n",
      "only showing top 3 rows\n",
      "\n"
     ]
    },
    {
     "name": "stderr",
     "output_type": "stream",
     "text": [
      "                                                                                \r"
     ]
    }
   ],
   "source": [
    "# customer table\n",
    "# adding distinct when pulling the data optimise the table by reducing redundancy\n",
    "\n",
    "customer_dim = bank_df_clean.select('Customer_Name','Customer_Address','Customer_City','Customer_State','Customer_Country').distinct()\n",
    "customer_dim = customer_dim.withColumn('customer_id', monotonically_increasing_id())\n",
    "customer_dim = customer_dim.select('customer_id','Customer_Name','Customer_Address','Customer_City','Customer_State','Customer_Country')\n",
    "customer_dim.show(3)\n"
   ]
  },
  {
   "cell_type": "code",
   "execution_count": 24,
   "metadata": {},
   "outputs": [
    {
     "name": "stderr",
     "output_type": "stream",
     "text": [
      "[Stage 95:==============>                                           (1 + 3) / 4]\r"
     ]
    },
    {
     "name": "stdout",
     "output_type": "stream",
     "text": [
      "+-----------+-------------------+--------------------+------+--------------+\n",
      "|employee_id|          Job_Title|             Company|Gender|Marital_Status|\n",
      "+-----------+-------------------+--------------------+------+--------------+\n",
      "|          0|            Unknown|         Price Group|  Male|        Single|\n",
      "|          1|Trade mark attorney|Rhodes, King and ...|  Male|       Unknown|\n",
      "|          2|    Engineer, water|Schmidt, Morgan a...|Female|        Single|\n",
      "+-----------+-------------------+--------------------+------+--------------+\n",
      "only showing top 3 rows\n",
      "\n"
     ]
    },
    {
     "name": "stderr",
     "output_type": "stream",
     "text": [
      "                                                                                \r"
     ]
    }
   ],
   "source": [
    "# employee table\n",
    " \n",
    "employee_dim = bank_df_clean.select('Company','Job_Title', 'Gender','Marital_Status').distinct()\n",
    "employee_dim = employee_dim.withColumn('employee_id', monotonically_increasing_id())\n",
    "employee_dim = employee_dim.select('employee_id','Job_Title','Company','Gender','Marital_Status')\n",
    "employee_dim.show(3)"
   ]
  },
  {
   "cell_type": "code",
   "execution_count": 25,
   "metadata": {},
   "outputs": [
    {
     "name": "stderr",
     "output_type": "stream",
     "text": [
      "[Stage 119:>                                                        (0 + 1) / 1]\r"
     ]
    },
    {
     "name": "stdout",
     "output_type": "stream",
     "text": [
      "+--------------+-----------+-----------+------------------+--------------------+-------------+-------------+--------+-----+---------+--------------------+--------------------+\n",
      "|transaction_id|customer_id|employee_id|Credit_Card_Number|                IBAN|Currency_Code|Random_Number|Category|Group|Is_Active|        Last_Updated|         Description|\n",
      "+--------------+-----------+-----------+------------------+--------------------+-------------+-------------+--------+-----+---------+--------------------+--------------------+\n",
      "|             4|25769849583|        740|   213156729655186|GB94EWRN587847592...|          SOS|       9179.0|       C|    Y|       No|2022-01-22 19:08:...|Husband find ok w...|\n",
      "|             4|25769849583|      10374|   213156729655186|GB94EWRN587847592...|          SOS|       9179.0|       C|    Y|       No|2022-01-22 19:08:...|Husband find ok w...|\n",
      "|             4|25769849583|      14518|   213156729655186|GB94EWRN587847592...|          SOS|       9179.0|       C|    Y|       No|2022-01-22 19:08:...|Husband find ok w...|\n",
      "|             4|25769849583|      27525|   213156729655186|GB94EWRN587847592...|          SOS|       9179.0|       C|    Y|       No|2022-01-22 19:08:...|Husband find ok w...|\n",
      "|             4|25769849583|      28972|   213156729655186|GB94EWRN587847592...|          SOS|       9179.0|       C|    Y|       No|2022-01-22 19:08:...|Husband find ok w...|\n",
      "+--------------+-----------+-----------+------------------+--------------------+-------------+-------------+--------+-----+---------+--------------------+--------------------+\n",
      "only showing top 5 rows\n",
      "\n"
     ]
    },
    {
     "name": "stderr",
     "output_type": "stream",
     "text": [
      "                                                                                \r"
     ]
    }
   ],
   "source": [
    "# bank_df_fact table \n",
    "\n",
    "bank_df_fact = bank_df_clean.join(customer_dim, ['Customer_Name','Customer_Address','Customer_City','Customer_State','Customer_Country'], 'left') \\\n",
    "                            .join(transaction_dim, ['Amount','Transaction_Type','Transaction_Date'], 'left') \\\n",
    "                            .join(employee_dim, ['Job_Title', 'Gender','Marital_Status'], 'left')\\\n",
    "                            .select('transaction_id','customer_id','employee_id','Credit_Card_Number','IBAN','Currency_Code','Random_Number','Category','Group','Is_Active','Last_Updated','Description')\n",
    "\n",
    "bank_df_fact.show(5)\n"
   ]
  },
  {
   "cell_type": "code",
   "execution_count": 26,
   "metadata": {},
   "outputs": [
    {
     "name": "stderr",
     "output_type": "stream",
     "text": [
      "[Stage 133:==========================================>              (3 + 1) / 4]\r"
     ]
    },
    {
     "name": "stdout",
     "output_type": "stream",
     "text": [
      "+--------------+-----------+-----------+------------------+--------------------+-------------+-------------+--------+-----+---------+--------------------+--------------------+\n",
      "|transaction_id|customer_id|employee_id|Credit_Card_Number|                IBAN|Currency_Code|Random_Number|Category|Group|Is_Active|        Last_Updated|         Description|\n",
      "+--------------+-----------+-----------+------------------+--------------------+-------------+-------------+--------+-----+---------+--------------------+--------------------+\n",
      "|   25769803786|17180087600|        536|  3553538220664415|GB17CKDS252816135...|          SZL|       8710.0|       D|    Y|      Yes|2023-07-06 05:44:...|Exist that movie ...|\n",
      "|   25769803786|17180087600|       2606|  3553538220664415|GB17CKDS252816135...|          SZL|       8710.0|       D|    Y|      Yes|2023-07-06 05:44:...|Exist that movie ...|\n",
      "|   25769803786|17180087600|       5859|  3553538220664415|GB17CKDS252816135...|          SZL|       8710.0|       D|    Y|      Yes|2023-07-06 05:44:...|Exist that movie ...|\n",
      "|   25769803786|17180087600|       9773|  3553538220664415|GB17CKDS252816135...|          SZL|       8710.0|       D|    Y|      Yes|2023-07-06 05:44:...|Exist that movie ...|\n",
      "|   25769803786|17180087600|       9919|  3553538220664415|GB17CKDS252816135...|          SZL|       8710.0|       D|    Y|      Yes|2023-07-06 05:44:...|Exist that movie ...|\n",
      "|   25769803786|17180087600|      23811|  3553538220664415|GB17CKDS252816135...|          SZL|       8710.0|       D|    Y|      Yes|2023-07-06 05:44:...|Exist that movie ...|\n",
      "|   25769803786|17180087600|      31291|  3553538220664415|GB17CKDS252816135...|          SZL|       8710.0|       D|    Y|      Yes|2023-07-06 05:44:...|Exist that movie ...|\n",
      "|   25769803786|17180087600|      34232|  3553538220664415|GB17CKDS252816135...|          SZL|       8710.0|       D|    Y|      Yes|2023-07-06 05:44:...|Exist that movie ...|\n",
      "|   25769803786|17180087600|      37820|  3553538220664415|GB17CKDS252816135...|          SZL|       8710.0|       D|    Y|      Yes|2023-07-06 05:44:...|Exist that movie ...|\n",
      "|   25769803786|17180087600|      45730|  3553538220664415|GB17CKDS252816135...|          SZL|       8710.0|       D|    Y|      Yes|2023-07-06 05:44:...|Exist that movie ...|\n",
      "|   25769803786|17180087600|      56657|  3553538220664415|GB17CKDS252816135...|          SZL|       8710.0|       D|    Y|      Yes|2023-07-06 05:44:...|Exist that movie ...|\n",
      "|   25769803786|17180087600|      57429|  3553538220664415|GB17CKDS252816135...|          SZL|       8710.0|       D|    Y|      Yes|2023-07-06 05:44:...|Exist that movie ...|\n",
      "|   25769803786|17180087600|      59635|  3553538220664415|GB17CKDS252816135...|          SZL|       8710.0|       D|    Y|      Yes|2023-07-06 05:44:...|Exist that movie ...|\n",
      "|   25769803786|17180087600|      69185|  3553538220664415|GB17CKDS252816135...|          SZL|       8710.0|       D|    Y|      Yes|2023-07-06 05:44:...|Exist that movie ...|\n",
      "|   25769803786|17180087600|      73225|  3553538220664415|GB17CKDS252816135...|          SZL|       8710.0|       D|    Y|      Yes|2023-07-06 05:44:...|Exist that movie ...|\n",
      "|   25769803786|17180087600|      88704|  3553538220664415|GB17CKDS252816135...|          SZL|       8710.0|       D|    Y|      Yes|2023-07-06 05:44:...|Exist that movie ...|\n",
      "|   25769803786|17180087600|     109910|  3553538220664415|GB17CKDS252816135...|          SZL|       8710.0|       D|    Y|      Yes|2023-07-06 05:44:...|Exist that movie ...|\n",
      "|   25769803786|17180087600|     120196|  3553538220664415|GB17CKDS252816135...|          SZL|       8710.0|       D|    Y|      Yes|2023-07-06 05:44:...|Exist that movie ...|\n",
      "|   25769803786|17180087600|     137012|  3553538220664415|GB17CKDS252816135...|          SZL|       8710.0|       D|    Y|      Yes|2023-07-06 05:44:...|Exist that movie ...|\n",
      "|   25769803786|17180087600|     154949|  3553538220664415|GB17CKDS252816135...|          SZL|       8710.0|       D|    Y|      Yes|2023-07-06 05:44:...|Exist that movie ...|\n",
      "+--------------+-----------+-----------+------------------+--------------------+-------------+-------------+--------+-----+---------+--------------------+--------------------+\n",
      "only showing top 20 rows\n",
      "\n"
     ]
    },
    {
     "name": "stderr",
     "output_type": "stream",
     "text": [
      "                                                                                \r"
     ]
    }
   ],
   "source": [
    "bank_df_fact.show()"
   ]
  },
  {
   "cell_type": "markdown",
   "metadata": {},
   "source": [
    "# Loading Data"
   ]
  },
  {
   "cell_type": "code",
   "execution_count": null,
   "metadata": {},
   "outputs": [],
   "source": [
    "# outputing cleaned and transformed data to parquet\n",
    "# partitioning will optimise query \n",
    "bank_df_fact.write.mode('overwrite').partitionBy('transaction_id').parquet(r'data/processed/bank_df_fact')\n",
    "transaction_dim.write.mode('overwrite').parquet(r'data/processed/transaction_dim')\n",
    "employee_dim.write.mode('overwrite').parquet(r'data/processed/employee_dim')\n",
    "customer_dim.write.mode('overwrite').parquet(r'data/processed/customer_dim')"
   ]
  },
  {
   "cell_type": "code",
   "execution_count": null,
   "metadata": {},
   "outputs": [],
   "source": [
    "# outputing to a csv file \n",
    "# repartitioning \n",
    "\n",
    "bank_df_fact.repartition(3)write.mode('overwrite').option('header', 'true').csv(r'data/processed/bank_df_fact')\n",
    "transaction_dim.repartition(3)write.mode('overwrite').option('header', 'true').csv(r'data/processed/transaction_dim')\n",
    "employee_dim.repartition(3)write.mode('overwrite').option('header', 'true').csv(r'data/processed/employee_dim')\n",
    "customer_dim.repartition(3)write.mode('overwrite').option('header', 'true').csv(r'data/processed/customer_dim')"
   ]
  },
  {
   "cell_type": "code",
   "execution_count": 32,
   "metadata": {},
   "outputs": [
    {
     "name": "stdout",
     "output_type": "stream",
     "text": [
      "/Users/villy/Documents/GitHub/Bank-Data-Processing-with-PySpark\n"
     ]
    }
   ],
   "source": [
    "import os\n",
    "print(os.getcwd())"
   ]
  },
  {
   "cell_type": "code",
   "execution_count": null,
   "metadata": {},
   "outputs": [],
   "source": [
    "# converting spark DataFrame to Pandas DataFrame\n",
    "bank_df_fact_df = bank_df_fact.toPandas()\n",
    "transaction_dim_df = transaction_dim.toPandas()\n",
    "employee_dim_df = employee_dim.toPandas()\n",
    "customer_dim_df = customer_dim.toPandas()"
   ]
  },
  {
   "cell_type": "code",
   "execution_count": null,
   "metadata": {},
   "outputs": [],
   "source": [
    "# Loading to database\n",
    "\n",
    "# Retrieve Azure SQL Database credentials from environment variables\n",
    "sql_user = os.getenv(\"az_user\")\n",
    "sql_password = os.getenv(\"az_password\")\n",
    "\n",
    "# Azure SQL Database connection properties\n",
    "sql_url = \"jdbc:sqlserver://ridwanclouds.database.windows.net:1433;database=bankdb\"\n",
    "sql_properties = {\n",
    "    \"user\": sql_user,\n",
    "    \"password\": sql_password,\n",
    "    \"driver\": \"com.microsoft.sqlserver.jdbc.SQLServerDriver\"\n",
    "}\n",
    "\n",
    "# Write the DataFrame to Azure SQL Database\n",
    "bank_df_fact_df.write.mode(\"overwrite\").jdbc(url=sql_url, table=\"dbo.bank_df_fact\", properties=sql_properties)\n",
    "transaction_dim.write.mode(\"overwrite\").jdbc(url=sql_url, table=\"dbo.transaction_dim\", properties=sql_properties)\n",
    "customer_dim.write.mode(\"overwrite\").jdbc(url=sql_url, table=\"dbo.customer_dim\", properties=sql_properties)\n",
    "employee_dim.write.mode(\"overwrite\").jdbc(url=sql_url, table=\"dbo.employee_dim\", properties=sql_properties)"
   ]
  },
  {
   "cell_type": "code",
   "execution_count": null,
   "metadata": {},
   "outputs": [],
   "source": []
  }
 ],
 "metadata": {
  "kernelspec": {
   "display_name": "spark_env",
   "language": "python",
   "name": "python3"
  },
  "language_info": {
   "codemirror_mode": {
    "name": "ipython",
    "version": 3
   },
   "file_extension": ".py",
   "mimetype": "text/x-python",
   "name": "python",
   "nbconvert_exporter": "python",
   "pygments_lexer": "ipython3",
   "version": "3.11.7"
  }
 },
 "nbformat": 4,
 "nbformat_minor": 2
}
